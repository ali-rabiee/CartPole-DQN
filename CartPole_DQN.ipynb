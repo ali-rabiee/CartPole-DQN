{
  "nbformat": 4,
  "nbformat_minor": 5,
  "metadata": {
    "kernelspec": {
      "display_name": "Python 3",
      "language": "python",
      "name": "python3"
    },
    "language_info": {
      "codemirror_mode": {
        "name": "ipython",
        "version": 3
      },
      "file_extension": ".py",
      "mimetype": "text/x-python",
      "name": "python",
      "nbconvert_exporter": "python",
      "pygments_lexer": "ipython3",
      "version": "3.7.10"
    },
    "colab": {
      "name": "CartPole DQN.ipynb",
      "provenance": []
    }
  },
  "cells": [
    {
      "cell_type": "code",
      "metadata": {
        "id": "mEFtQMKH1JPI"
      },
      "source": [
        "'''\n",
        "Cart-pole solution with DQN\n",
        "'''"
      ],
      "id": "mEFtQMKH1JPI",
      "execution_count": null,
      "outputs": []
    },
    {
      "cell_type": "code",
      "metadata": {
        "id": "guilty-blackjack"
      },
      "source": [
        "# Import libraries\n",
        "import numpy as np\n",
        "import torch \n",
        "import torch.nn as nn\n",
        "import torch.optim as optim\n",
        "import gym\n",
        "import copy"
      ],
      "id": "guilty-blackjack",
      "execution_count": null,
      "outputs": []
    },
    {
      "cell_type": "code",
      "metadata": {
        "id": "prime-accident"
      },
      "source": [
        "env = gym.make(\"CartPole-v1\")"
      ],
      "id": "prime-accident",
      "execution_count": null,
      "outputs": []
    },
    {
      "cell_type": "code",
      "metadata": {
        "id": "posted-service"
      },
      "source": [
        "n_actions = env.action_space.n\n",
        "input_dim = env.observation_space.shape[0]\n",
        "\n",
        "model =nn.Sequential(nn.Linear(input_dim,32),\n",
        "                     nn.ReLU(),\n",
        "                     nn.Linear(32,16),\n",
        "                     nn.ReLU(),\n",
        "                     nn.Linear(16,n_actions))\n",
        "\n",
        "model_target = copy.deepcopy(model)\n",
        "loss_fn = nn.MSELoss()\n",
        "Learning_rate = 1e-3\n",
        "optimizer = optim.Adam(model.parameters(),lr= Learning_rate)"
      ],
      "id": "posted-service",
      "execution_count": null,
      "outputs": []
    },
    {
      "cell_type": "code",
      "metadata": {
        "id": "cheap-cancellation"
      },
      "source": [
        "def learning(replay_memory,traget_update,minibatch_size=32):\n",
        "\n",
        "    minibatch = np.random.choice(replay_memory, minibatch_size ,replace=True)\n",
        "    s = np.array(list(map(lambda x:x['s'], minibatch)))\n",
        "    a = np.array(list(map(lambda x:x['a'], minibatch)))\n",
        "    r = np.array(list(map(lambda x:x['r'], minibatch)))\n",
        "    sprime = np.array(list(map(lambda x:x['sprime'], minibatch)))\n",
        "    done = np.array(list(map(lambda x:x['done'], minibatch)))\n",
        "\n",
        "    global model_target\n",
        "\n",
        "    if traget_update: \n",
        "      model_target = copy.deepcopy(model)\n",
        "    q_s = model(torch.tensor(s).float())\n",
        "    q_sprime = model_target(torch.tensor(sprime).float())\n",
        "    q_s_target = q_s.detach().clone()\n",
        "    \n",
        "    for i,(s1, a1, r1, q_sprime1, done1) in enumerate(zip(s, a, r, q_sprime, done)):\n",
        "        if not done1: \n",
        "          target = r1 + gamma * torch.max(q_sprime1)\n",
        "        else:\n",
        "          target = r1\n",
        "        q_s_target[i][a1] = target\n",
        "    \n",
        "    optimizer.zero_grad()\n",
        "    loss = loss_fn(q_s ,q_s_target)\n",
        "    loss.backward()\n",
        "    optimizer.step()"
      ],
      "id": "cheap-cancellation",
      "execution_count": null,
      "outputs": []
    },
    {
      "cell_type": "code",
      "metadata": {
        "colab": {
          "base_uri": "https://localhost:8080/"
        },
        "id": "animated-nightlife",
        "outputId": "7f71774a-4c76-4626-d2d5-b909c081b63b"
      },
      "source": [
        "n_episodes = 1000\n",
        "gamma = 0.98\n",
        "epsilon = 0.9\n",
        "minibatch_size = 32\n",
        "r_sums = []\n",
        "replay_memory = []\n",
        "mem_max_size = 120000\n",
        "\n",
        "for n in range(n_episodes):\n",
        "    s, done, r_sum, flag = env.reset(), False, 0, 1\n",
        "    while not done:\n",
        "        q_s = model(torch.tensor(s).float())        \n",
        "        if np.random.random() < epsilon:\n",
        "            a = env.action_space.sample()\n",
        "        else:\n",
        "            a = np.argmax(q_s.detach().numpy())    \n",
        "        sprime,r,done,info = env.step(a)\n",
        "        r_sum += r\n",
        "        if len(replay_memory) > mem_max_size:\n",
        "            replay_memory.pop(0)\n",
        "        replay_memory.append({\"s\":s, \"a\":a, \"r\":r, \"sprime\":sprime, \"done\":done})\n",
        "        s = sprime\n",
        "        if n %1 == 0 and flag == 1:\n",
        "            flag, traget_update = 0, True \n",
        "        else:\n",
        "            traget_update = False\n",
        "        learning(replay_memory, traget_update, minibatch_size=minibatch_size)\n",
        "    if epsilon > 0.1:\n",
        "        epsilon -= 0.001\n",
        "    r_sums.append(r_sum)\n",
        "    if n % 10 == 0:\n",
        "        print(f'Episode {n}: {r_sum}') \n",
        "        \n",
        "              "
      ],
      "id": "animated-nightlife",
      "execution_count": null,
      "outputs": [
        {
          "output_type": "stream",
          "text": [
            "Episode 0: 37.0\n",
            "Episode 10: 18.0\n",
            "Episode 20: 11.0\n",
            "Episode 30: 19.0\n",
            "Episode 40: 21.0\n",
            "Episode 50: 15.0\n",
            "Episode 60: 29.0\n",
            "Episode 70: 36.0\n",
            "Episode 80: 15.0\n",
            "Episode 90: 14.0\n",
            "Episode 100: 60.0\n",
            "Episode 110: 16.0\n",
            "Episode 120: 11.0\n",
            "Episode 130: 17.0\n",
            "Episode 140: 13.0\n",
            "Episode 150: 55.0\n",
            "Episode 160: 21.0\n",
            "Episode 170: 13.0\n",
            "Episode 180: 27.0\n",
            "Episode 190: 21.0\n",
            "Episode 200: 22.0\n",
            "Episode 210: 95.0\n",
            "Episode 220: 14.0\n",
            "Episode 230: 39.0\n",
            "Episode 240: 18.0\n",
            "Episode 250: 16.0\n",
            "Episode 260: 37.0\n",
            "Episode 270: 22.0\n",
            "Episode 280: 35.0\n",
            "Episode 290: 24.0\n",
            "Episode 300: 23.0\n",
            "Episode 310: 19.0\n",
            "Episode 320: 23.0\n",
            "Episode 330: 48.0\n",
            "Episode 340: 21.0\n",
            "Episode 350: 32.0\n",
            "Episode 360: 18.0\n",
            "Episode 370: 34.0\n",
            "Episode 380: 21.0\n",
            "Episode 390: 14.0\n",
            "Episode 400: 13.0\n",
            "Episode 410: 14.0\n",
            "Episode 420: 13.0\n",
            "Episode 430: 20.0\n",
            "Episode 440: 16.0\n",
            "Episode 450: 13.0\n",
            "Episode 460: 15.0\n",
            "Episode 470: 64.0\n",
            "Episode 480: 132.0\n",
            "Episode 490: 9.0\n",
            "Episode 500: 89.0\n",
            "Episode 510: 50.0\n",
            "Episode 520: 34.0\n",
            "Episode 530: 16.0\n",
            "Episode 540: 75.0\n",
            "Episode 550: 64.0\n",
            "Episode 560: 23.0\n",
            "Episode 570: 32.0\n",
            "Episode 580: 17.0\n",
            "Episode 590: 75.0\n",
            "Episode 600: 55.0\n",
            "Episode 610: 34.0\n",
            "Episode 620: 11.0\n",
            "Episode 630: 109.0\n",
            "Episode 640: 101.0\n",
            "Episode 650: 78.0\n",
            "Episode 660: 225.0\n",
            "Episode 670: 221.0\n",
            "Episode 680: 200.0\n",
            "Episode 690: 127.0\n",
            "Episode 700: 167.0\n",
            "Episode 710: 97.0\n",
            "Episode 720: 168.0\n",
            "Episode 730: 102.0\n",
            "Episode 740: 21.0\n",
            "Episode 750: 95.0\n",
            "Episode 760: 15.0\n",
            "Episode 770: 244.0\n",
            "Episode 780: 231.0\n",
            "Episode 790: 100.0\n",
            "Episode 800: 187.0\n",
            "Episode 810: 158.0\n",
            "Episode 820: 11.0\n",
            "Episode 830: 153.0\n",
            "Episode 840: 82.0\n",
            "Episode 850: 283.0\n",
            "Episode 860: 217.0\n",
            "Episode 870: 184.0\n",
            "Episode 880: 245.0\n",
            "Episode 890: 371.0\n",
            "Episode 900: 500.0\n",
            "Episode 910: 301.0\n",
            "Episode 920: 382.0\n",
            "Episode 930: 500.0\n",
            "Episode 940: 254.0\n",
            "Episode 950: 500.0\n",
            "Episode 960: 115.0\n",
            "Episode 970: 236.0\n",
            "Episode 980: 260.0\n",
            "Episode 990: 459.0\n"
          ],
          "name": "stdout"
        }
      ]
    },
    {
      "cell_type": "code",
      "metadata": {
        "colab": {
          "base_uri": "https://localhost:8080/",
          "height": 297
        },
        "id": "attractive-google",
        "outputId": "ab7da22b-92da-401c-c3f5-d37fb5703a1e"
      },
      "source": [
        "%matplotlib inline \n",
        "import matplotlib.pyplot as plt\n",
        "mavg = []\n",
        "t, j = r_sums[0], 2\n",
        "for i in r_sums:\n",
        "    t+=i\n",
        "    mavg.append(t/j)\n",
        "    j+=1\n",
        "plt.plot(r_sums,color=\"g\")\n",
        "plt.plot(mavg,color=\"r\")\n",
        "plt.xlabel(\"Episode\")\n",
        "plt.ylabel(\"Reward\")"
      ],
      "id": "attractive-google",
      "execution_count": null,
      "outputs": [
        {
          "output_type": "execute_result",
          "data": {
            "text/plain": [
              "Text(0, 0.5, 'Reward')"
            ]
          },
          "metadata": {
            "tags": []
          },
          "execution_count": 24
        },
        {
          "output_type": "display_data",
          "data": {
            "image/png": "[encoded data removed]",
            "text/plain": [
              "<Figure size 432x288 with 1 Axes>"
            ]
          },
          "metadata": {
            "tags": [],
            "needs_background": "light"
          }
        }
      ]
    },
    {
      "cell_type": "code",
      "metadata": {
        "id": "tough-slide"
      },
      "source": [
        ""
      ],
      "id": "tough-slide",
      "execution_count": null,
      "outputs": []
    }
  ]
}